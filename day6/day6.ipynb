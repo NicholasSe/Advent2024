{
 "cells": [
  {
   "cell_type": "code",
   "execution_count": null,
   "metadata": {},
   "outputs": [],
   "source": [
    "from collections import defaultdict\n",
    "from functools import cache\n",
    "from copy import deepcopy"
   ]
  },
  {
   "cell_type": "code",
   "execution_count": null,
   "metadata": {},
   "outputs": [],
   "source": [
    "def pprint(board, n):\n",
    "    board = list(board.values())\n",
    "    for i in range(0, len(board), n):\n",
    "        print(board[i:i+n])"
   ]
  },
  {
   "cell_type": "code",
   "execution_count": null,
   "metadata": {},
   "outputs": [],
   "source": [
    "with open(\"part.in\", \"r\") as f:\n",
    "    part = f.read().split(\"\\n\")\n",
    "\n",
    "starting_board = defaultdict(lambda:'x', {complex(j, i): c\n",
    "             for i, row in enumerate(part)\n",
    "             for j, c in enumerate(row)})\n",
    "\n",
    "pprint(starting_board, len(part[0]))"
   ]
  },
  {
   "cell_type": "code",
   "execution_count": null,
   "metadata": {},
   "outputs": [],
   "source": [
    "dirs = {'u': complex(0, -1), 'r': complex(1, 0), 'd': complex(0, 1), 'l': complex(-1, 0)}\n",
    "list_dirs = list(dirs.keys())"
   ]
  },
  {
   "cell_type": "code",
   "execution_count": null,
   "metadata": {},
   "outputs": [],
   "source": [
    "board = deepcopy(starting_board)\n",
    "\n",
    "for key, values in starting_board.items():\n",
    "    if \"^\" in values:\n",
    "        node = key\n",
    "\n",
    "dir = 'u'\n",
    "count = 0\n",
    "\n",
    "while board.get(node):\n",
    "    if board[node] != \"X\":\n",
    "        board[node] = \"X\"\n",
    "        count += 1\n",
    "\n",
    "    if board.get(node + dirs[dir]) == \"#\":\n",
    "        dir = list_dirs[(list_dirs.index(dir) + 1) % len(list_dirs)]\n",
    "    else:\n",
    "        node += dirs[dir]\n",
    "    # pprint(board, len(part[0]))\n",
    "    # print()\n",
    "print(count)"
   ]
  }
 ],
 "metadata": {
  "kernelspec": {
   "display_name": "Python 3",
   "language": "python",
   "name": "python3"
  },
  "language_info": {
   "codemirror_mode": {
    "name": "ipython",
    "version": 3
   },
   "file_extension": ".py",
   "mimetype": "text/x-python",
   "name": "python",
   "nbconvert_exporter": "python",
   "pygments_lexer": "ipython3",
   "version": "3.12.0"
  }
 },
 "nbformat": 4,
 "nbformat_minor": 2
}
