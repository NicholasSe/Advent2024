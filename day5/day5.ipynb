{
 "cells": [
  {
   "cell_type": "code",
   "execution_count": null,
   "metadata": {},
   "outputs": [],
   "source": [
    "from copy import deepcopy"
   ]
  },
  {
   "cell_type": "code",
   "execution_count": null,
   "metadata": {},
   "outputs": [],
   "source": [
    "with open(\"part.in\", \"r\") as f:\n",
    "    part = f.read()"
   ]
  },
  {
   "cell_type": "code",
   "execution_count": null,
   "metadata": {},
   "outputs": [],
   "source": [
    "rules_str, orders_str = part.split(\"\\n\\n\")"
   ]
  },
  {
   "cell_type": "code",
   "execution_count": null,
   "metadata": {},
   "outputs": [],
   "source": [
    "rules = {}\n",
    "for key, value in [list(map(int, r)) for rule in rules_str.split(\"\\n\") if (r := rule.split(\"|\"))]:\n",
    "    if key in rules:\n",
    "        rules[key].add(value)\n",
    "    else:\n",
    "        rules[key] = set([value])\n",
    "rules"
   ]
  },
  {
   "cell_type": "code",
   "execution_count": null,
   "metadata": {},
   "outputs": [],
   "source": [
    "orders = [ list(map(int, o)) for order in orders_str.split(\"\\n\") if (o := order.split(\",\"))]\n",
    "orders"
   ]
  },
  {
   "cell_type": "code",
   "execution_count": null,
   "metadata": {},
   "outputs": [],
   "source": [
    "sum1 = 0\n",
    "for order in orders:\n",
    "    good = True\n",
    "    for x in range(1, len(order)):\n",
    "        if order[x] in rules and rules[order[x]].intersection(set(order[:x])):\n",
    "            good = False\n",
    "            break\n",
    "        \n",
    "    if good:\n",
    "        sum1 += order[len(order)//2]\n",
    "sum1"
   ]
  },
  {
   "cell_type": "code",
   "execution_count": null,
   "metadata": {},
   "outputs": [],
   "source": [
    "sum2 = 0\n",
    "for order in deepcopy(orders):\n",
    "    good = True\n",
    "    x = 1\n",
    "    while x < len(order):\n",
    "        if order[x] in rules and rules[order[x]].intersection(set(order[:x])):\n",
    "            order[x-1], order[x] = order[x], order[x-1]\n",
    "            good = False\n",
    "            x -= 1\n",
    "        else:\n",
    "            x += 1\n",
    "\n",
    "    if not good:\n",
    "        sum2 += order[len(order)//2]\n",
    "sum2"
   ]
  }
 ],
 "metadata": {
  "kernelspec": {
   "display_name": "Python 3",
   "language": "python",
   "name": "python3"
  },
  "language_info": {
   "codemirror_mode": {
    "name": "ipython",
    "version": 3
   },
   "file_extension": ".py",
   "mimetype": "text/x-python",
   "name": "python",
   "nbconvert_exporter": "python",
   "pygments_lexer": "ipython3",
   "version": "3.12.0"
  }
 },
 "nbformat": 4,
 "nbformat_minor": 2
}
