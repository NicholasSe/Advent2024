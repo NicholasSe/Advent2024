{
 "cells": [
  {
   "cell_type": "code",
   "execution_count": null,
   "metadata": {},
   "outputs": [],
   "source": [
    "import pandas as pd"
   ]
  },
  {
   "cell_type": "code",
   "execution_count": null,
   "metadata": {},
   "outputs": [],
   "source": [
    "with open(\"test.in\", \"r\") as f:\n",
    "    test = f.read()\n",
    "\n",
    "with open(\"part1.in\", \"r\") as f:\n",
    "    part = f.read()\n"
   ]
  },
  {
   "cell_type": "code",
   "execution_count": null,
   "metadata": {},
   "outputs": [],
   "source": [
    "data = part.split(\"\\n\")"
   ]
  },
  {
   "cell_type": "code",
   "execution_count": null,
   "metadata": {},
   "outputs": [],
   "source": [
    "def check_safe(lst):\n",
    "    diff = lst.diff().iloc[1:]\n",
    "    return diff.between(1, 3).all() or diff.between(-3, -1).all()"
   ]
  },
  {
   "cell_type": "code",
   "execution_count": null,
   "metadata": {},
   "outputs": [],
   "source": [
    "safe1 = 0\n",
    "safe2 = 0\n",
    "for d in data:\n",
    "    lst = pd.Series((map(int, d.split())))\n",
    "    if check_safe(lst):\n",
    "        safe1 += 1\n",
    "        safe2 += 1\n",
    "    else:\n",
    "        for x in range(len(lst)):\n",
    "            if check_safe(lst.drop(x)):\n",
    "                safe2 += 1\n",
    "                break\n",
    "print(safe1)\n",
    "print(safe2)"
   ]
  }
 ],
 "metadata": {
  "kernelspec": {
   "display_name": "Python 3",
   "language": "python",
   "name": "python3"
  },
  "language_info": {
   "codemirror_mode": {
    "name": "ipython",
    "version": 3
   },
   "file_extension": ".py",
   "mimetype": "text/x-python",
   "name": "python",
   "nbconvert_exporter": "python",
   "pygments_lexer": "ipython3",
   "version": "3.12.0"
  }
 },
 "nbformat": 4,
 "nbformat_minor": 2
}
