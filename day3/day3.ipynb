{
 "cells": [
  {
   "cell_type": "code",
   "execution_count": 5,
   "metadata": {},
   "outputs": [],
   "source": [
    "import re"
   ]
  },
  {
   "cell_type": "code",
   "execution_count": 6,
   "metadata": {},
   "outputs": [],
   "source": [
    "with open(\"part1.in\", \"r\") as f:\n",
    "    part = f.read()"
   ]
  },
  {
   "cell_type": "code",
   "execution_count": 7,
   "metadata": {},
   "outputs": [
    {
     "name": "stdout",
     "output_type": "stream",
     "text": [
      "183669043\n",
      "59097164\n"
     ]
    }
   ],
   "source": [
    "sum1 = 0\n",
    "sum2 = 0\n",
    "enabled = True\n",
    "for x, y, do, dont in re.findall(r\"\"\"mul\\((\\d{1,3})\\,(\\d{1,3})\\)|(do\\(\\))|(don\\'t\\(\\))\"\"\", part):\n",
    "    if do:\n",
    "        enabled = True\n",
    "    elif dont:\n",
    "        enabled = False\n",
    "    else:\n",
    "        mult = int(x) * int(y)\n",
    "        sum1 += mult\n",
    "        if enabled:\n",
    "            sum2 += mult\n",
    "print(sum1)\n",
    "print(sum2)"
   ]
  }
 ],
 "metadata": {
  "kernelspec": {
   "display_name": "Python 3",
   "language": "python",
   "name": "python3"
  },
  "language_info": {
   "codemirror_mode": {
    "name": "ipython",
    "version": 3
   },
   "file_extension": ".py",
   "mimetype": "text/x-python",
   "name": "python",
   "nbconvert_exporter": "python",
   "pygments_lexer": "ipython3",
   "version": "3.12.0"
  }
 },
 "nbformat": 4,
 "nbformat_minor": 2
}
