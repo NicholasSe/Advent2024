{
 "cells": [
  {
   "cell_type": "code",
   "execution_count": null,
   "metadata": {},
   "outputs": [],
   "source": [
    "with open(\"part1.in\", \"r\") as f:\n",
    "    part = f.read()"
   ]
  },
  {
   "cell_type": "code",
   "execution_count": null,
   "metadata": {},
   "outputs": [],
   "source": [
    "board = [list(x) for x in part.split(\"\\n\")]"
   ]
  },
  {
   "cell_type": "code",
   "execution_count": null,
   "metadata": {},
   "outputs": [],
   "source": [
    "count = 0\n",
    "for x in range(len(board) - 2):\n",
    "    for y in range(len(board) - 2):\n",
    "        if board[x+1][y+1] == \"A\":\n",
    "            if ((board[x][y] == \"M\" and board[x][y+2] == \"M\" and board[x+2][y] == \"S\" and board[x+2][y+2] == \"S\") or \n",
    "                (board[x][y] == \"M\" and board[x][y+2] == \"S\" and board[x+2][y] == \"M\" and board[x+2][y+2] == \"S\") or \n",
    "                (board[x][y] == \"S\" and board[x][y+2] == \"M\" and board[x+2][y] == \"S\" and board[x+2][y+2] == \"M\") or \n",
    "                (board[x][y] == \"S\" and board[x][y+2] == \"S\" and board[x+2][y] == \"M\" and board[x+2][y+2] == \"M\")):\n",
    "                \n",
    "                count += 1\n",
    "print(count)"
   ]
  }
 ],
 "metadata": {
  "kernelspec": {
   "display_name": "Python 3",
   "language": "python",
   "name": "python3"
  },
  "language_info": {
   "codemirror_mode": {
    "name": "ipython",
    "version": 3
   },
   "file_extension": ".py",
   "mimetype": "text/x-python",
   "name": "python",
   "nbconvert_exporter": "python",
   "pygments_lexer": "ipython3",
   "version": "3.12.0"
  }
 },
 "nbformat": 4,
 "nbformat_minor": 2
}
