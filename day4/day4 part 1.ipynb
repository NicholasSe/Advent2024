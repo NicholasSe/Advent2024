{
 "cells": [
  {
   "cell_type": "code",
   "execution_count": null,
   "metadata": {},
   "outputs": [],
   "source": [
    "import re"
   ]
  },
  {
   "cell_type": "code",
   "execution_count": null,
   "metadata": {},
   "outputs": [],
   "source": [
    "with open(\"part.in\", \"r\") as f:\n",
    "    part = f.read()"
   ]
  },
  {
   "cell_type": "code",
   "execution_count": null,
   "metadata": {},
   "outputs": [],
   "source": [
    "board = [list(x) for x in part.split(\"\\n\")]"
   ]
  },
  {
   "cell_type": "code",
   "execution_count": null,
   "metadata": {},
   "outputs": [],
   "source": [
    "all = []"
   ]
  },
  {
   "cell_type": "code",
   "execution_count": null,
   "metadata": {},
   "outputs": [],
   "source": [
    "#across\n",
    "for x in range(len(board)):\n",
    "    all.append(''.join(board[x]))"
   ]
  },
  {
   "cell_type": "code",
   "execution_count": null,
   "metadata": {},
   "outputs": [],
   "source": [
    "#down\n",
    "for x in range(len(board)):\n",
    "    arr = []\n",
    "    for y in range(len(board)):\n",
    "        arr.append(board[y][x])\n",
    "    all.append(''.join(arr))"
   ]
  },
  {
   "cell_type": "code",
   "execution_count": null,
   "metadata": {},
   "outputs": [],
   "source": [
    "#right to left top\n",
    "for x in range(len(board)):\n",
    "    arr = []\n",
    "    for y in range(len(board) - x):\n",
    "        arr.append(board[y][x+y])\n",
    "    all.append(''.join(arr))"
   ]
  },
  {
   "cell_type": "code",
   "execution_count": null,
   "metadata": {},
   "outputs": [],
   "source": [
    "#right to left bottom\n",
    "for x in range(1, len(board)):\n",
    "    arr = []\n",
    "    for y in range(len(board) - x):\n",
    "        arr.append(board[x+y][y])\n",
    "    all.append(''.join(arr))"
   ]
  },
  {
   "cell_type": "code",
   "execution_count": null,
   "metadata": {},
   "outputs": [],
   "source": [
    "board_reversed = [x[::-1] for x in board]\n",
    "#board_reversed"
   ]
  },
  {
   "cell_type": "code",
   "execution_count": null,
   "metadata": {},
   "outputs": [],
   "source": [
    "#left to right top\n",
    "for x in range(len(board_reversed)):\n",
    "    arr = []\n",
    "    for y in range(len(board_reversed) - x):\n",
    "        arr.append(board_reversed[y][x+y])\n",
    "    all.append(''.join(arr))"
   ]
  },
  {
   "cell_type": "code",
   "execution_count": null,
   "metadata": {},
   "outputs": [],
   "source": [
    "#left to right bottom\n",
    "for x in range(1, len(board_reversed)):\n",
    "    arr = []\n",
    "    for y in range(len(board_reversed) - x):\n",
    "        arr.append(board_reversed[x+y][y])\n",
    "    all.append(''.join(arr))"
   ]
  },
  {
   "cell_type": "code",
   "execution_count": null,
   "metadata": {},
   "outputs": [],
   "source": [
    "count = 0\n",
    "for x in all:\n",
    "    count += x.count(\"XMAS\")\n",
    "    count += x.count(\"XMAS\"[::-1])\n",
    "print(count)"
   ]
  }
 ],
 "metadata": {
  "kernelspec": {
   "display_name": "Python 3",
   "language": "python",
   "name": "python3"
  },
  "language_info": {
   "codemirror_mode": {
    "name": "ipython",
    "version": 3
   },
   "file_extension": ".py",
   "mimetype": "text/x-python",
   "name": "python",
   "nbconvert_exporter": "python",
   "pygments_lexer": "ipython3",
   "version": "3.12.0"
  }
 },
 "nbformat": 4,
 "nbformat_minor": 2
}
